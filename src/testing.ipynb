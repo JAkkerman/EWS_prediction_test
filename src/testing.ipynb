{
 "cells": [
  {
   "cell_type": "code",
   "execution_count": 60,
   "metadata": {},
   "outputs": [],
   "source": [
    "import numpy as np\n",
    "import pandas as pd"
   ]
  },
  {
   "cell_type": "code",
   "execution_count": 61,
   "metadata": {},
   "outputs": [],
   "source": [
    "sim_types = [\n",
    "                'Ricker',\n",
    "                # 'May',\n",
    "                # 'Rosen-Mac'\n",
    "            ]"
   ]
  },
  {
   "cell_type": "code",
   "execution_count": 62,
   "metadata": {},
   "outputs": [],
   "source": [
    "seed = 1234"
   ]
  },
  {
   "cell_type": "code",
   "execution_count": 63,
   "metadata": {},
   "outputs": [],
   "source": [
    "# Open data sets\n",
    "data = {sim_type: pd.read_csv(f'../prediction_values/pred_{sim_type}_{seed}.csv').rename(columns={'Unnamed: 0': 'Index'}).set_index('Index') for sim_type in sim_types}"
   ]
  },
  {
   "cell_type": "code",
   "execution_count": 64,
   "metadata": {},
   "outputs": [],
   "source": [
    "indicators = ['variance', 'cv', 'ac1', 'skew']"
   ]
  },
  {
   "cell_type": "code",
   "execution_count": 76,
   "metadata": {},
   "outputs": [
    {
     "name": "stdout",
     "output_type": "stream",
     "text": [
      "       variance        cv       ac1      skew  true  pred_interval_max\n",
      "Index                                                                 \n",
      "0      0.804422  0.869048  0.911565  0.615646     1                0.9\n",
      "1     -0.396825  0.004608 -0.152074 -0.023041     1                0.9\n",
      "2      0.630769  0.733333  0.766667  0.497436     1                0.9\n",
      "3      0.808696  0.885990  0.949758  0.818357     1                0.9\n",
      "4      0.918051  0.951274  0.918051 -0.377630     1                0.9\n",
      "\n",
      "variance\n",
      "[[0.38 0.  ]\n",
      " [0.62 1.  ]]\n",
      "\n",
      "cv\n",
      "[[0.64 0.12]\n",
      " [0.36 0.88]]\n",
      "\n",
      "ac1\n",
      "[[0.58 0.12]\n",
      " [0.42 0.88]]\n",
      "\n",
      "skew\n",
      "[[0.04 0.  ]\n",
      " [0.96 1.  ]]\n"
     ]
    }
   ],
   "source": [
    "def compute_scores(data:dict, sim_type:str, cont_tables:dict):\n",
    "\n",
    "    df = data[sim_type]\n",
    "    print(df.head())\n",
    "\n",
    "    df_scores = df.copy()\n",
    "\n",
    "    ktau_crit = 0.8\n",
    "\n",
    "    for indicator in indicators:\n",
    "\n",
    "        df_scores[indicator] = (np.abs(df[indicator]) >= ktau_crit) * 1\n",
    "\n",
    "        # Fill in scores in contingency tables\n",
    "        cont_tables[indicator][0, 0] = df_scores.loc[(df_scores[indicator] == 1) & (df_scores['true'] == 1)].shape[0]\n",
    "        cont_tables[indicator][0, 1] = df_scores.loc[(df_scores[indicator] == 1) & (df_scores['true'] == 0)].shape[0]\n",
    "        cont_tables[indicator][1, 0] = df_scores.loc[(df_scores[indicator] == 0) & (df_scores['true'] == 1)].shape[0]\n",
    "        cont_tables[indicator][1, 1] = df_scores.loc[(df_scores[indicator] == 0) & (df_scores['true'] == 0)].shape[0]\n",
    "        \n",
    "        # Normalize scores\n",
    "        cont_tables[indicator][:, 0] /= df_scores[df_scores['true'] == 1].count()[indicator]\n",
    "        cont_tables[indicator][:, 1] /= df_scores[df_scores['true'] == 0].count()[indicator]\n",
    "\n",
    "        print()\n",
    "        print(indicator)\n",
    "        print(cont_tables[indicator])\n",
    "\n",
    "    return cont_tables\n",
    "\n",
    "cont_tables = {\n",
    "    indicator: np.zeros((2,2)) for indicator in indicators\n",
    "}\n",
    "cont_tables = compute_scores(data, 'Ricker', cont_tables)"
   ]
  },
  {
   "cell_type": "code",
   "execution_count": null,
   "metadata": {},
   "outputs": [],
   "source": []
  }
 ],
 "metadata": {
  "kernelspec": {
   "display_name": "Python 3",
   "language": "python",
   "name": "python3"
  },
  "language_info": {
   "codemirror_mode": {
    "name": "ipython",
    "version": 3
   },
   "file_extension": ".py",
   "mimetype": "text/x-python",
   "name": "python",
   "nbconvert_exporter": "python",
   "pygments_lexer": "ipython3",
   "version": "3.10.6"
  },
  "orig_nbformat": 4,
  "vscode": {
   "interpreter": {
    "hash": "916dbcbb3f70747c44a77c7bcd40155683ae19c65e1c03b4aa3499c5328201f1"
   }
  }
 },
 "nbformat": 4,
 "nbformat_minor": 2
}
